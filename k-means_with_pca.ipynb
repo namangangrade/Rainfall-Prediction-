{
 "cells": [
  {
   "cell_type": "code",
   "execution_count": 1,
   "metadata": {},
   "outputs": [],
   "source": [
    "import numpy as np\n",
    "import pandas as pd\n",
    "import matplotlib.pylab as plt\n",
    "import seaborn as sns"
   ]
  },
  {
   "cell_type": "code",
   "execution_count": 3,
   "metadata": {},
   "outputs": [],
   "source": [
    "df = pd.read_csv('../../data processing/reduced_dataset.csv')"
   ]
  },
  {
   "cell_type": "code",
   "execution_count": 4,
   "metadata": {},
   "outputs": [],
   "source": [
    "X = df.drop('RainTomorrow', axis=1);"
   ]
  },
  {
   "cell_type": "code",
   "execution_count": 8,
   "metadata": {},
   "outputs": [],
   "source": [
    "from sklearn.cluster import KMeans\n",
    "model = KMeans(n_clusters=5)\n",
    "cluster_labels = model.fit_predict(X)"
   ]
  },
  {
   "cell_type": "code",
   "execution_count": 9,
   "metadata": {},
   "outputs": [
    {
     "data": {
      "text/plain": [
       "array([2, 2, 2, ..., 0, 0, 1])"
      ]
     },
     "execution_count": 9,
     "metadata": {},
     "output_type": "execute_result"
    }
   ],
   "source": [
    "cluster_labels"
   ]
  },
  {
   "cell_type": "code",
   "execution_count": 10,
   "metadata": {},
   "outputs": [
    {
     "data": {
      "text/html": [
       "<div>\n",
       "<style scoped>\n",
       "    .dataframe tbody tr th:only-of-type {\n",
       "        vertical-align: middle;\n",
       "    }\n",
       "\n",
       "    .dataframe tbody tr th {\n",
       "        vertical-align: top;\n",
       "    }\n",
       "\n",
       "    .dataframe thead th {\n",
       "        text-align: right;\n",
       "    }\n",
       "</style>\n",
       "<table border=\"1\" class=\"dataframe\">\n",
       "  <thead>\n",
       "    <tr style=\"text-align: right;\">\n",
       "      <th></th>\n",
       "      <th>PC1</th>\n",
       "      <th>PC2</th>\n",
       "      <th>PC3</th>\n",
       "      <th>PC4</th>\n",
       "      <th>PC5</th>\n",
       "      <th>PC6</th>\n",
       "      <th>PC7</th>\n",
       "      <th>PC8</th>\n",
       "      <th>PC9</th>\n",
       "      <th>PC10</th>\n",
       "      <th>PC11</th>\n",
       "      <th>PC12</th>\n",
       "      <th>PC13</th>\n",
       "      <th>Cluster</th>\n",
       "    </tr>\n",
       "  </thead>\n",
       "  <tbody>\n",
       "    <tr>\n",
       "      <th>0</th>\n",
       "      <td>0.749989</td>\n",
       "      <td>1.230099</td>\n",
       "      <td>-2.093426</td>\n",
       "      <td>-0.298704</td>\n",
       "      <td>0.536319</td>\n",
       "      <td>0.481063</td>\n",
       "      <td>-1.064279</td>\n",
       "      <td>0.217299</td>\n",
       "      <td>-1.220448</td>\n",
       "      <td>-1.194645</td>\n",
       "      <td>1.970566</td>\n",
       "      <td>-0.312113</td>\n",
       "      <td>-0.065709</td>\n",
       "      <td>2</td>\n",
       "    </tr>\n",
       "    <tr>\n",
       "      <th>1</th>\n",
       "      <td>1.007009</td>\n",
       "      <td>-0.052832</td>\n",
       "      <td>-2.698468</td>\n",
       "      <td>-1.253686</td>\n",
       "      <td>0.384879</td>\n",
       "      <td>0.264372</td>\n",
       "      <td>-1.472700</td>\n",
       "      <td>-0.093843</td>\n",
       "      <td>-0.826070</td>\n",
       "      <td>-0.979376</td>\n",
       "      <td>1.495448</td>\n",
       "      <td>0.800856</td>\n",
       "      <td>0.987330</td>\n",
       "      <td>2</td>\n",
       "    </tr>\n",
       "    <tr>\n",
       "      <th>2</th>\n",
       "      <td>1.614931</td>\n",
       "      <td>1.042818</td>\n",
       "      <td>-1.918554</td>\n",
       "      <td>0.034041</td>\n",
       "      <td>-0.769160</td>\n",
       "      <td>0.998345</td>\n",
       "      <td>-1.182415</td>\n",
       "      <td>-0.221554</td>\n",
       "      <td>-1.643123</td>\n",
       "      <td>-0.345244</td>\n",
       "      <td>1.611492</td>\n",
       "      <td>-0.095412</td>\n",
       "      <td>0.692029</td>\n",
       "      <td>2</td>\n",
       "    </tr>\n",
       "    <tr>\n",
       "      <th>3</th>\n",
       "      <td>2.346759</td>\n",
       "      <td>-2.545315</td>\n",
       "      <td>0.220300</td>\n",
       "      <td>0.442592</td>\n",
       "      <td>0.807228</td>\n",
       "      <td>1.385255</td>\n",
       "      <td>-2.293140</td>\n",
       "      <td>0.289938</td>\n",
       "      <td>1.331965</td>\n",
       "      <td>1.334661</td>\n",
       "      <td>-0.895851</td>\n",
       "      <td>-0.577264</td>\n",
       "      <td>0.752065</td>\n",
       "      <td>0</td>\n",
       "    </tr>\n",
       "    <tr>\n",
       "      <th>4</th>\n",
       "      <td>1.170310</td>\n",
       "      <td>1.643348</td>\n",
       "      <td>-0.231587</td>\n",
       "      <td>-1.855438</td>\n",
       "      <td>-0.417431</td>\n",
       "      <td>2.028205</td>\n",
       "      <td>-1.078809</td>\n",
       "      <td>-0.647345</td>\n",
       "      <td>-0.709093</td>\n",
       "      <td>-0.462753</td>\n",
       "      <td>-0.012471</td>\n",
       "      <td>-0.994412</td>\n",
       "      <td>-1.481143</td>\n",
       "      <td>2</td>\n",
       "    </tr>\n",
       "    <tr>\n",
       "      <th>...</th>\n",
       "      <td>...</td>\n",
       "      <td>...</td>\n",
       "      <td>...</td>\n",
       "      <td>...</td>\n",
       "      <td>...</td>\n",
       "      <td>...</td>\n",
       "      <td>...</td>\n",
       "      <td>...</td>\n",
       "      <td>...</td>\n",
       "      <td>...</td>\n",
       "      <td>...</td>\n",
       "      <td>...</td>\n",
       "      <td>...</td>\n",
       "      <td>...</td>\n",
       "    </tr>\n",
       "    <tr>\n",
       "      <th>145455</th>\n",
       "      <td>0.083345</td>\n",
       "      <td>-3.717788</td>\n",
       "      <td>0.178347</td>\n",
       "      <td>1.472794</td>\n",
       "      <td>1.058897</td>\n",
       "      <td>1.243298</td>\n",
       "      <td>0.465545</td>\n",
       "      <td>1.173320</td>\n",
       "      <td>-1.592043</td>\n",
       "      <td>0.183161</td>\n",
       "      <td>0.240572</td>\n",
       "      <td>0.156753</td>\n",
       "      <td>0.381497</td>\n",
       "      <td>1</td>\n",
       "    </tr>\n",
       "    <tr>\n",
       "      <th>145456</th>\n",
       "      <td>0.017594</td>\n",
       "      <td>-2.530976</td>\n",
       "      <td>-1.493767</td>\n",
       "      <td>-0.974144</td>\n",
       "      <td>0.510472</td>\n",
       "      <td>2.001109</td>\n",
       "      <td>0.665878</td>\n",
       "      <td>-0.344729</td>\n",
       "      <td>1.313493</td>\n",
       "      <td>-2.063659</td>\n",
       "      <td>-0.013646</td>\n",
       "      <td>-1.574120</td>\n",
       "      <td>-0.178437</td>\n",
       "      <td>1</td>\n",
       "    </tr>\n",
       "    <tr>\n",
       "      <th>145457</th>\n",
       "      <td>0.724006</td>\n",
       "      <td>-2.186203</td>\n",
       "      <td>-1.345398</td>\n",
       "      <td>-0.704922</td>\n",
       "      <td>0.761860</td>\n",
       "      <td>1.646034</td>\n",
       "      <td>0.585660</td>\n",
       "      <td>0.136316</td>\n",
       "      <td>0.549115</td>\n",
       "      <td>-1.498885</td>\n",
       "      <td>1.335171</td>\n",
       "      <td>-1.344210</td>\n",
       "      <td>-0.173701</td>\n",
       "      <td>0</td>\n",
       "    </tr>\n",
       "    <tr>\n",
       "      <th>145458</th>\n",
       "      <td>1.138285</td>\n",
       "      <td>-2.773773</td>\n",
       "      <td>-0.737175</td>\n",
       "      <td>-0.401409</td>\n",
       "      <td>1.367802</td>\n",
       "      <td>1.104264</td>\n",
       "      <td>0.423048</td>\n",
       "      <td>0.634580</td>\n",
       "      <td>-0.788424</td>\n",
       "      <td>-1.277074</td>\n",
       "      <td>-0.189990</td>\n",
       "      <td>-0.625883</td>\n",
       "      <td>-0.236861</td>\n",
       "      <td>0</td>\n",
       "    </tr>\n",
       "    <tr>\n",
       "      <th>145459</th>\n",
       "      <td>-0.124453</td>\n",
       "      <td>-0.628008</td>\n",
       "      <td>0.812396</td>\n",
       "      <td>0.547722</td>\n",
       "      <td>-1.867359</td>\n",
       "      <td>2.575374</td>\n",
       "      <td>0.783022</td>\n",
       "      <td>0.033770</td>\n",
       "      <td>-1.284725</td>\n",
       "      <td>-0.091947</td>\n",
       "      <td>0.207039</td>\n",
       "      <td>-0.105377</td>\n",
       "      <td>0.040251</td>\n",
       "      <td>1</td>\n",
       "    </tr>\n",
       "  </tbody>\n",
       "</table>\n",
       "<p>145460 rows × 14 columns</p>\n",
       "</div>"
      ],
      "text/plain": [
       "             PC1       PC2       PC3       PC4       PC5       PC6       PC7  \\\n",
       "0       0.749989  1.230099 -2.093426 -0.298704  0.536319  0.481063 -1.064279   \n",
       "1       1.007009 -0.052832 -2.698468 -1.253686  0.384879  0.264372 -1.472700   \n",
       "2       1.614931  1.042818 -1.918554  0.034041 -0.769160  0.998345 -1.182415   \n",
       "3       2.346759 -2.545315  0.220300  0.442592  0.807228  1.385255 -2.293140   \n",
       "4       1.170310  1.643348 -0.231587 -1.855438 -0.417431  2.028205 -1.078809   \n",
       "...          ...       ...       ...       ...       ...       ...       ...   \n",
       "145455  0.083345 -3.717788  0.178347  1.472794  1.058897  1.243298  0.465545   \n",
       "145456  0.017594 -2.530976 -1.493767 -0.974144  0.510472  2.001109  0.665878   \n",
       "145457  0.724006 -2.186203 -1.345398 -0.704922  0.761860  1.646034  0.585660   \n",
       "145458  1.138285 -2.773773 -0.737175 -0.401409  1.367802  1.104264  0.423048   \n",
       "145459 -0.124453 -0.628008  0.812396  0.547722 -1.867359  2.575374  0.783022   \n",
       "\n",
       "             PC8       PC9      PC10      PC11      PC12      PC13  Cluster  \n",
       "0       0.217299 -1.220448 -1.194645  1.970566 -0.312113 -0.065709        2  \n",
       "1      -0.093843 -0.826070 -0.979376  1.495448  0.800856  0.987330        2  \n",
       "2      -0.221554 -1.643123 -0.345244  1.611492 -0.095412  0.692029        2  \n",
       "3       0.289938  1.331965  1.334661 -0.895851 -0.577264  0.752065        0  \n",
       "4      -0.647345 -0.709093 -0.462753 -0.012471 -0.994412 -1.481143        2  \n",
       "...          ...       ...       ...       ...       ...       ...      ...  \n",
       "145455  1.173320 -1.592043  0.183161  0.240572  0.156753  0.381497        1  \n",
       "145456 -0.344729  1.313493 -2.063659 -0.013646 -1.574120 -0.178437        1  \n",
       "145457  0.136316  0.549115 -1.498885  1.335171 -1.344210 -0.173701        0  \n",
       "145458  0.634580 -0.788424 -1.277074 -0.189990 -0.625883 -0.236861        0  \n",
       "145459  0.033770 -1.284725 -0.091947  0.207039 -0.105377  0.040251        1  \n",
       "\n",
       "[145460 rows x 14 columns]"
      ]
     },
     "execution_count": 10,
     "metadata": {},
     "output_type": "execute_result"
    }
   ],
   "source": [
    "X['Cluster'] = cluster_labels\n",
    "X"
   ]
  },
  {
   "cell_type": "code",
   "execution_count": 12,
   "metadata": {},
   "outputs": [
    {
     "data": {
      "text/plain": [
       "Cluster\n",
       "1    36428\n",
       "4    32001\n",
       "3    28378\n",
       "0    24864\n",
       "2    23789\n",
       "Name: count, dtype: int64"
      ]
     },
     "execution_count": 12,
     "metadata": {},
     "output_type": "execute_result"
    }
   ],
   "source": [
    "X['Cluster'].value_counts()"
   ]
  },
  {
   "cell_type": "code",
   "execution_count": 13,
   "metadata": {},
   "outputs": [
    {
     "data": {
      "text/plain": [
       "[<matplotlib.lines.Line2D at 0x2205c4a9f70>]"
      ]
     },
     "execution_count": 13,
     "metadata": {},
     "output_type": "execute_result"
    },
    {
     "data": {
      "image/png": "[encoded data removed]",
      "text/plain": [
       "<Figure size 640x480 with 1 Axes>"
      ]
     },
     "metadata": {},
     "output_type": "display_data"
    }
   ],
   "source": [
    "ssd = []\n",
    "\n",
    "for k in range(2, 10):\n",
    "    model = KMeans(n_clusters=k)\n",
    "    model.fit(X)\n",
    "\n",
    "    ssd.append(model.inertia_)\n",
    "\n",
    "plt.plot(range(2, 10), ssd, 'o--')"
   ]
  },
  {
   "cell_type": "code",
   "execution_count": 15,
   "metadata": {},
   "outputs": [],
   "source": [
    "X['RainTomorrow'] = df['RainTomorrow']\n",
    "X.to_csv('../../data processing/pca_with_clusters.csv', index=False)"
   ]
  },
  {
   "cell_type": "code",
   "execution_count": null,
   "metadata": {},
   "outputs": [],
   "source": []
  }
 ],
 "metadata": {
  "kernelspec": {
   "display_name": "Python 3",
   "language": "python",
   "name": "python3"
  },
  "language_info": {
   "codemirror_mode": {
    "name": "ipython",
    "version": 3
   },
   "file_extension": ".py",
   "mimetype": "text/x-python",
   "name": "python",
   "nbconvert_exporter": "python",
   "pygments_lexer": "ipython3",
   "version": "3.9.5"
  }
 },
 "nbformat": 4,
 "nbformat_minor": 2
}
